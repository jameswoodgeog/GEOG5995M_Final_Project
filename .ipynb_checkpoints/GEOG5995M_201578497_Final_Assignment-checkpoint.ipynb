{
 "cells": [
  {
   "cell_type": "markdown",
   "id": "1e1694b4-0ff8-4e25-8c21-756e23ce6972",
   "metadata": {},
   "source": [
    "# GEOG5995M Final Assignment\n",
    "\n",
    "Student ID number: 201578497"
   ]
  },
  {
   "cell_type": "markdown",
   "id": "371cb0b9-5ee6-46bc-8e4f-8be7381ebffb",
   "metadata": {},
   "source": [
    "The packages required for the code were loaded."
   ]
  },
  {
   "cell_type": "code",
   "execution_count": null,
   "id": "1d435d17-0eb5-4238-b242-8e202462c4d9",
   "metadata": {},
   "outputs": [],
   "source": [
    "# read in required packages\n",
    "import pandas as pd\n",
    "import geopandas as gpd\n",
    "from shapely.wkt import loads\n",
    "import statsmodels.api as sm\n",
    "import matplotlib.pyplot as plt\n",
    "import matplotlib.colors as mcolors\n",
    "import seaborn as sns\n",
    "import contextily as ctx\n",
    "from mpl_toolkits.axes_grid1 import make_axes_locatable"
   ]
  },
  {
   "cell_type": "markdown",
   "id": "768bc20f-f3ce-44a6-890c-134c3340466d",
   "metadata": {},
   "source": [
    "In the first instance, the AHAH data was downloaded from <a href=\"#ref2\">[2]</a> and loaded into a variable called *pm*.\n",
    "The first couple of records of the *pm* DataFrame were viewed to find out what the data looks like and to see if there was any cleaning required, including removing unrequired columns."
   ]
  },
  {
   "cell_type": "code",
   "execution_count": null,
   "id": "f56f286e-b8af-459e-89f6-f4b54f81d3b8",
   "metadata": {},
   "outputs": [],
   "source": [
    "# Use Pandas to load the pm10 data\n",
    "pm = pd.read_csv('AHAH_V3_0.csv')\n",
    "# Have a look at the 1st couple of rows\n",
    "pm.head(2)"
   ]
  },
  {
   "cell_type": "markdown",
   "id": "a3a0f450-c6cd-4d83-9345-cd68af8a9ea2",
   "metadata": {},
   "source": [
    "A full list of columns was then printed, so that those that were unwanted could be identified."
   ]
  },
  {
   "cell_type": "code",
   "execution_count": null,
   "id": "b4eca42a-5944-4b46-84c2-4a5711351b23",
   "metadata": {},
   "outputs": [],
   "source": [
    "# Check the variables contained in the AHAH data\n",
    "print(pm.columns)"
   ]
  },
  {
   "cell_type": "markdown",
   "id": "2063d070-4303-4c96-8663-197590bc2c27",
   "metadata": {},
   "source": [
    "Only the *lsoa11* and *ah3pm10* columns were required, all others were removed, and the columns listed again to check the process worked."
   ]
  },
  {
   "cell_type": "code",
   "execution_count": null,
   "id": "748c88fc-8500-4712-9e3e-6d1b89740510",
   "metadata": {},
   "outputs": [],
   "source": [
    "# remove unwanted columns\n",
    "pm = pm.loc[:, ['lsoa11', 'ah3pm10']]\n",
    "# Check the data\n",
    "print(pm.columns)"
   ]
  },
  {
   "cell_type": "markdown",
   "id": "cba72397-c223-4c59-b851-cdcb5b9fd2e6",
   "metadata": {},
   "source": [
    "A quick check was made to see if there were any missing pm10 values."
   ]
  },
  {
   "cell_type": "code",
   "execution_count": null,
   "id": "a7e6787d-bee2-44e7-be13-3c769cc0a665",
   "metadata": {},
   "outputs": [],
   "source": [
    "# See if there are any columns with null values in them\n",
    "pm.info()"
   ]
  },
  {
   "cell_type": "markdown",
   "id": "f4b7efa5-54e9-47f7-8deb-0a40cf1cbecb",
   "metadata": {},
   "source": [
    "The air quality data needed to be joined to the retail centres. The AHAH data is based on the Lower layer Super Output Areas (LSOA) so the rest of the data need to be based upon this. So that the AHAH data could be spatially visualised, the boundaries of the LSOAs were retrieved from <a href=\"#ref4\">[4]</a> and loaded into a dataframe called *lsoa_bs* and checked."
   ]
  },
  {
   "cell_type": "code",
   "execution_count": null,
   "id": "a31c9c31-744a-4d5f-a2a5-d99ec0bbb9fa",
   "metadata": {},
   "outputs": [],
   "source": [
    "# Use GeoPandas to load the lsoa geometries\n",
    "lsoa_bs = gpd.read_file('LSOA_21_Boundaries.gpkg')\n",
    "# Check the data has been loaded\n",
    "lsoa_bs.head(2)"
   ]
  },
  {
   "cell_type": "markdown",
   "id": "791a8374-d442-4464-b011-50a842f4f58b",
   "metadata": {},
   "source": [
    "The retail centre data was retrieved from <a href=\"#ref1\">[1]</a> and loaded into a dataframe called *rc_boundaries*. The first couple of rows was viewed to make sure the data was loaded correctly and to find out what the data looked like."
   ]
  },
  {
   "cell_type": "code",
   "execution_count": null,
   "id": "cb7f14ec-9555-4fe6-98db-5f1f02fe65cd",
   "metadata": {},
   "outputs": [],
   "source": [
    "# Use GeoPandas to load the retail centre boundaries data\n",
    "rc_boundaries = gpd.read_file('Retail_Boundaries_UK.gpkg')\n",
    "# Take a look at the 1st 2 rows of data to see what it looks like\n",
    "rc_boundaries.head(2)"
   ]
  },
  {
   "cell_type": "markdown",
   "id": "f056873a-c649-4778-a6db-0a5abf37cded",
   "metadata": {},
   "source": [
    "So that the retail centres geometry column could be easily identified in the future, it was renamed to *rc_geometry* and checked."
   ]
  },
  {
   "cell_type": "code",
   "execution_count": null,
   "id": "3b9509de-8f1b-4b60-bb4c-e94e5a98544f",
   "metadata": {},
   "outputs": [],
   "source": [
    "# rename (geometry to rc_geometry)\n",
    "rc_boundaries = rc_boundaries.rename(columns = {'geometry':'rc_geometry'})\n",
    "# Print the column names\n",
    "print(rc_boundaries.columns)"
   ]
  },
  {
   "cell_type": "markdown",
   "id": "4b83b436-afa2-489f-8ae3-4cdd77e201db",
   "metadata": {},
   "source": [
    "They were then filtered into a new dataframe called *y_rcbs*, which contained only those in the study area (*Region_NM*) of *\"Yorkshire and The Humber\"*. The original dataframe was deleted to save memory space and the results were checked for validity and missing values. The new dataframe records were checked and the data types looked at."
   ]
  },
  {
   "cell_type": "code",
   "execution_count": null,
   "id": "321c1e5f-ea28-4ea6-a569-108a6220b58c",
   "metadata": {},
   "outputs": [],
   "source": [
    "# Filter the retail centre to get only those from Yorkshire and the Humber and remove the original dataframe to save space.\n",
    "y_rcbs = rc_boundaries.loc[rc_boundaries['Region_NM'] == 'Yorkshire and The Humber']\n",
    "del rc_boundaries\n",
    "# View the 1st 2 records\n",
    "y_rcbs.head(2)"
   ]
  },
  {
   "cell_type": "code",
   "execution_count": null,
   "id": "628426c7-dbe1-4787-b0aa-fe4630edc0a2",
   "metadata": {},
   "outputs": [],
   "source": [
    "# View the columns and data types of the new retail centres boundary data\n",
    "y_rcbs.info()"
   ]
  },
  {
   "cell_type": "markdown",
   "id": "19654aec-a93f-4bff-8b97-c01179180801",
   "metadata": {},
   "source": [
    "So that the *lsoa_bs* and *y_rcbs* data could be linked through intersecting geometries, the geometry column in *lsoa_bs* was copied to a new column called *saved_geom* so that the original remained and the new one could be processed and was again checked."
   ]
  },
  {
   "cell_type": "code",
   "execution_count": null,
   "id": "e9965447-14ef-481e-88f8-7ddd3c485783",
   "metadata": {},
   "outputs": [],
   "source": [
    "# Make a copy of the geometry column\n",
    "lsoa_bs['saved_geom'] = lsoa_bs.geometry\n",
    "# Check the data types of the dataframe\n",
    "lsoa_bs.info(2)"
   ]
  },
  {
   "cell_type": "markdown",
   "id": "170096e8-393e-4594-8afa-b0282fffea9a",
   "metadata": {},
   "source": [
    "The *saved_geom* column was then converted to a string so that the subsequent intersect function would not identify it as geometry data and also to allow it to be pulled through in the join function. This was checked using the *.info()* function."
   ]
  },
  {
   "cell_type": "code",
   "execution_count": null,
   "id": "c9d0c95c-a236-4b6e-bcab-79eb877a0029",
   "metadata": {},
   "outputs": [],
   "source": [
    "# Convert the copy of the saved_geom column to a string for the moment.\n",
    "lsoa_bs['saved_geom'] = lsoa_bs['saved_geom'].apply(lambda x: str(x))\n",
    "# And set the geometry column\n",
    "lsoa_bs = lsoa_bs.set_geometry('geometry')\n",
    "# Check the data type of saved_geom has changed\n",
    "lsoa_bs.info()"
   ]
  },
  {
   "cell_type": "markdown",
   "id": "a8c293ad-928e-4ff5-83b8-82b181dbcdd8",
   "metadata": {},
   "source": [
    "To ensure that the intersect function would work, the geometry was set to the *geometry* column in the *lsoa_bs* dataframe. The *geometry* column for the retail centre boundaries dataframe was also set to be the *rc_geometry* column."
   ]
  },
  {
   "cell_type": "code",
   "execution_count": null,
   "id": "e3e99619-4549-4772-9b21-eb9de06857c7",
   "metadata": {},
   "outputs": [],
   "source": [
    "# Now set the geomtry column to be used in the intersect function\n",
    "lsoa_bs = lsoa_bs.set_geometry('geometry')\n",
    "# Check the data type\n",
    "lsoa_bs.info()\n",
    "# Set the geometry column for the y_rcbs dataframe\n",
    "y_rcbs = y_rcbs.set_geometry('rc_geometry')\n",
    "# CHeck to see if the geomtry column has been set\n",
    "y_rcbs.info()"
   ]
  },
  {
   "cell_type": "markdown",
   "id": "8232b8b9-a64a-4966-9022-061e0ed1f350",
   "metadata": {},
   "source": [
    "The join function was used to find all the LSOA polygons that intersected with the retail centre boundary polygons. The resulting data, which included all the retail centre data and the additional columns from the LSOA data (*LSOA21CD* and *saved_geom*) was applied to a new dataframe called *intersected*, and finally, checked."
   ]
  },
  {
   "cell_type": "code",
   "execution_count": null,
   "id": "e092afa3-b75f-4b9a-9d61-01dfb8320e84",
   "metadata": {},
   "outputs": [],
   "source": [
    "# Now do the intersect calculation\n",
    "# Create a dataframe called intersected, and join the lsoa_bs data to the y_rcbs data by intersecting the geometries\n",
    "# as previously set\n",
    "intersected = gpd.sjoin(y_rcbs, lsoa_bs[['geometry', 'LSOA21CD', 'saved_geom']],\n",
    "                        how='left',\n",
    "                        predicate='intersects'\n",
    "                       )\n",
    "\n",
    "intersected.head(2)"
   ]
  },
  {
   "cell_type": "code",
   "execution_count": null,
   "id": "c429140d-4d90-4960-86db-783954f64e5a",
   "metadata": {},
   "outputs": [],
   "source": [
    "# Check the new dataframe datatypes and columns\n",
    "intersected.info()"
   ]
  },
  {
   "cell_type": "markdown",
   "id": "447a7568-e01c-4fa8-af80-15192619238c",
   "metadata": {},
   "source": [
    "Because each retail centre could potentially intersect with multiple LSOAs, each time that this happened, the join function would append a relevant row in the dataframe to reflect this. This increased the number of rows from 582 to 1466.\n",
    "\n",
    "Because the *saved_geom* column was still as JSON object data type, it needed to be converted to a geometry data type (python dictionary). Converting this from JSON data to something that could be recognised as spatial data was done by using the *.apply(loads)* function. It was then able to be set as the geometry column. This was checked to make sure that the *intersected* dataframe contained two geometry columns for use in spatial visualisations."
   ]
  },
  {
   "cell_type": "code",
   "execution_count": null,
   "id": "856a7c54-5b46-4a88-878d-a0f6392de714",
   "metadata": {},
   "outputs": [],
   "source": [
    "# Convert the saved_geom column\n",
    "intersected['saved_geom'] = intersected['saved_geom'].apply(loads)\n",
    "# Make the saved_geom column a geometry type\n",
    "intersected = intersected.set_geometry('saved_geom')\n",
    "# CHeck this worked\n",
    "intersected.info()"
   ]
  },
  {
   "cell_type": "markdown",
   "id": "8fd9f9c9-5149-467c-9450-a72603beb97f",
   "metadata": {},
   "source": [
    "The *saved_geom* column was renamed to something more meaningful (*lsoa_geometry*) and checked."
   ]
  },
  {
   "cell_type": "code",
   "execution_count": null,
   "id": "e3bf8dcc-9e84-4ede-95c8-4e27c1b6fb6c",
   "metadata": {},
   "outputs": [],
   "source": [
    "# rename (saved_geom to lsoa_geometry)\n",
    "intersected = intersected.rename(columns = {'saved_geom':'lsoa_geometry'})\n",
    "# Check the data types\n",
    "intersected.info()"
   ]
  },
  {
   "cell_type": "markdown",
   "id": "6cb5b407-41d4-4236-85ca-09dab5a568f4",
   "metadata": {},
   "source": [
    "Once the retail centres and LSOA geometries intersections had been calculated, the pm10 data needed to be attached to each LSOA. Because the pm10 data was already attached to a 2011 LSOA, it needed to be attached to some lookup data that would provide the link between the LSOA11 and LSOA21 codes. This lookup data was retrieved from <a href=\"#ref5\">[5]</a> and loaded to the environment and checked."
   ]
  },
  {
   "cell_type": "code",
   "execution_count": null,
   "id": "39cc7a7d-f4f6-4502-84aa-461c3a16178b",
   "metadata": {},
   "outputs": [],
   "source": [
    "# Load the lsoa_11_21 data\n",
    "lsoa_11_21 = pd.read_csv('LSOA11_to_LSOA21.csv')\n",
    "# Check the data out\n",
    "lsoa_11_21.info()"
   ]
  },
  {
   "cell_type": "markdown",
   "id": "c4b6cc43-1a59-4121-bc4a-55867e8ee5b7",
   "metadata": {},
   "source": [
    "The LSOA11CD code could now be joined to the *intersected* dataframe using a 'left' join that would maintain the data in the *intersected* dataframe and append the LSOA11CD to it."
   ]
  },
  {
   "cell_type": "code",
   "execution_count": null,
   "id": "9e0160f6-cea3-4e15-8133-679e0f6daaaf",
   "metadata": {},
   "outputs": [],
   "source": [
    "# Join the LSOA11CD to the intersected dataframe\n",
    "# Join the LSOA21CD from the lsoa_11_21 dataframe to the intersected dataframe, keeping the lsoa_11_21 data, using the \n",
    "# LSOA21CD as the lookup value\n",
    "intersected = intersected.merge(lsoa_11_21[['LSOA11CD', 'LSOA21CD']],\n",
    "                      left_on='LSOA21CD',\n",
    "                      right_on='LSOA21CD',\n",
    "                      how = 'left'\n",
    "                     )\n",
    "# CHeck this worked\n",
    "intersected.info()"
   ]
  },
  {
   "cell_type": "markdown",
   "id": "6838f868-f526-481b-b247-ad029aeda48b",
   "metadata": {},
   "source": [
    "Because some of the LSOA21 boundary codes may be linked to multiple LSOA11 codes, the join would append additional columns to the dataframe to reflect this, therefore increasing the number of rows. The final join was carried out to attach the pm10 (*ah3pm10*) data to the relevant LSOA, using the LSOA11 code."
   ]
  },
  {
   "cell_type": "code",
   "execution_count": null,
   "id": "40583579-f20a-410d-ac31-fbbfec5082cf",
   "metadata": {},
   "outputs": [],
   "source": [
    "# Add the pm10 value to the intersected dataframe\n",
    "# Join the ah3pm10 column to the inersected datafrane using the LSOA11CD and the matching lsoa11 columns\n",
    "intersected = intersected.merge(pm[['lsoa11', 'ah3pm10']],\n",
    "                      left_on='LSOA11CD',\n",
    "                      right_on='lsoa11',\n",
    "                      how = 'left'\n",
    "                     )\n",
    "# CHeck this worked\n",
    "intersected.info()\n",
    "# View the 1st 2 records to make sure\n",
    "intersected.head(2)"
   ]
  },
  {
   "cell_type": "markdown",
   "id": "ac03bbe6-93fb-4211-bb8e-b71ba856bdc1",
   "metadata": {},
   "source": [
    "A check to find the number of unique retail centres (582) in the data was done, so that the subsequent step could be checked against this."
   ]
  },
  {
   "cell_type": "code",
   "execution_count": null,
   "id": "8a456a0f-d8f9-4c0f-8e0a-29ae3a5869a5",
   "metadata": {},
   "outputs": [],
   "source": [
    "# Create a new dataframe of the RC_ID's  that counts the unique RC_ID's  \n",
    "unique_rcs = intersected[['RC_ID']].groupby('RC_ID').nunique()\n",
    "# Check the information for this so the number of rows can be seen\n",
    "unique_rcs.info()"
   ]
  },
  {
   "cell_type": "markdown",
   "id": "4eec5ee7-c4c7-454e-a806-84dad3ccb87f",
   "metadata": {},
   "source": [
    "The final dataframe had the retail centres data for Yorkshire and The Humber, the LSOAs that intersected with the boundaries of each retail centre, and the pm10 data for each LSOA.\n",
    "\r\n",
    "The average (mean) pm10 value for each retail centre could then be calculated through the *.groupby()* function in which it would sum the pm10 values for each retail centre (*RC_ID*) and divide the result by the number of retail centres in the calculation. Mean values were added to a new dataframe called *mean_values* which contained the RC_ID and the calculated mean, which was then checked for validity\r\n"
   ]
  },
  {
   "cell_type": "code",
   "execution_count": null,
   "id": "be5d54c1-5e0e-414d-8c09-f6842050579a",
   "metadata": {},
   "outputs": [],
   "source": [
    "# Calculate the mean values\n",
    "mean_values = intersected.groupby('RC_ID')['ah3pm10'].mean().reset_index()\n",
    "# Check the number of rows \n",
    "mean_values.info()"
   ]
  },
  {
   "cell_type": "markdown",
   "id": "a242f0a6-c18f-43d5-874b-bbc1b76e059f",
   "metadata": {},
   "source": [
    "The calculated mean values were then added to the intersected dataframe based on the retail centre id (*RC_ID*)."
   ]
  },
  {
   "cell_type": "code",
   "execution_count": null,
   "id": "167ab779-7ebd-4958-a6e2-05c5efdc785d",
   "metadata": {},
   "outputs": [],
   "source": [
    "# Join the mean values data to the intersected dataframe using the RC_ID as the lookup value, making \n",
    "# sure to rename the mean values column so it can be identified as the mean value\n",
    "intersected = intersected.merge(mean_values,\n",
    "                                on='RC_ID',\n",
    "                                suffixes=('', '_mean')\n",
    "                               )\n",
    "# Check this worked\n",
    "intersected.info()"
   ]
  },
  {
   "cell_type": "markdown",
   "id": "0e995fae-8cf9-41e7-ae27-55cd55d41b44",
   "metadata": {},
   "source": [
    "The column holding the mean pm10 value was renamed."
   ]
  },
  {
   "cell_type": "code",
   "execution_count": null,
   "id": "9c0981e8-1b0d-46d9-a94d-aef1882adf74",
   "metadata": {},
   "outputs": [],
   "source": [
    "# Rename the pm10 column to something sensible\n",
    "intersected = intersected.rename(columns = {'ah3pm10_mean':'pm10_mean'})\n",
    "# CHeck the 1st 2 rows\n",
    "intersected.head(2)"
   ]
  },
  {
   "cell_type": "markdown",
   "id": "9a044e53-2bc5-4d8c-b890-5a608b6ce109",
   "metadata": {},
   "source": [
    "An Ordinary Least Squares (OLS) regression model was run to find out if the area of the retail centres or the number of units contained in them was a significant predictor of air quality."
   ]
  },
  {
   "cell_type": "code",
   "execution_count": null,
   "id": "7cce7384-5afa-4766-8c1d-9a265674d3ef",
   "metadata": {},
   "outputs": [],
   "source": [
    "# Define the response/dependent variable\n",
    "y = intersected['pm10_mean']\n",
    "\n",
    "# Define the predictor/independent variables\n",
    "x = intersected[['H3_count', 'Area_km2']]\n",
    "\n",
    "# Add a constant to predictor variables to remove bias\n",
    "x = sm.add_constant(x)\n",
    "\n",
    "# Fit a linear OLS regression model\n",
    "model = sm.OLS(y, x).fit()\n",
    "\n",
    "# Print the summary of significance indicators\n",
    "print(model.summary())"
   ]
  },
  {
   "cell_type": "markdown",
   "id": "f1dfb2dd-69b0-46c0-92d6-90fcee8fa8e3",
   "metadata": {},
   "source": [
    "The OLS model shows that through the R-squared value (0.003), the model is not a good fit for the data. The P>|t| values show insignificance at α = 0.05, with *H3_count* at 0.126 and *Area_km2* at 0.130. This suggests that there are more important factors driving the level of pm10 values which are not represented in the data. To try to understand this better, the data was plotted spatially."
   ]
  },
  {
   "cell_type": "markdown",
   "id": "2cbf7847-2f13-4fa8-ae77-475d9542ca85",
   "metadata": {},
   "source": [
    "To start with, a lineplot was produced to show the mean pm10 values broken down by retail centre classification."
   ]
  },
  {
   "cell_type": "code",
   "execution_count": null,
   "id": "0a5bf613-d7d3-4de2-9951-f871edb4e145",
   "metadata": {},
   "outputs": [],
   "source": [
    "# Plot a line plot for the the retail centres classifications mean pm10 values\n",
    "# Set the figure size\n",
    "plt.figure(figsize=(25,8))\n",
    "# The plot data to be used\n",
    "sns.lineplot(intersected,\n",
    "# The x axis\n",
    "             x='Classification',\n",
    "# The y axis\n",
    "             y='pm10_mean'\n",
    "            );\n",
    "# Set the overall title of the plot\n",
    "plt.title('Lineplot of retail centre classifications and mean pm10 values',\n",
    "# Set the font size of the title\n",
    "          fontsize = 24,\n",
    "# set the position of the title\n",
    "          y = 1.01\n",
    "         )\n",
    "# Set the x and y axis labels and font sizes for each\n",
    "plt.xlabel('Retail centre classification', fontsize=16)\n",
    "plt.ylabel('Mean pm10 values', fontsize=16);\n",
    "# Edit the axis tick parameter \n",
    "plt.tick_params(axis='y', which='major', labelsize=14);"
   ]
  },
  {
   "cell_type": "markdown",
   "id": "edf59f76-efab-41b8-b960-57a0baa8b8ac",
   "metadata": {},
   "source": [
    "The lineplot shows the classification with the lowest mean pm10 data to be \"Market Towns\" and displays the largest variation in the 95% confidence interval, so to see whether there is a pattern to their geographical locations, they needed to be visualised in other ways.\n",
    "\n",
    "Because there are 11 retail centre classifications, and many of the colour palettes available contain fewer than this, a new colour palette needed to be defined. The colours were chosen to be as accessible to as many people as possible, and closely resembled the *'colorblind'* palette."
   ]
  },
  {
   "cell_type": "code",
   "execution_count": null,
   "id": "c3a5d73b-f3d9-451d-b3cc-875bb1518d0f",
   "metadata": {},
   "outputs": [],
   "source": [
    "# Define the color palette\n",
    "my_palette = ['#404040', '#E69F00', '#56B4E9', '#009E73', '#F0E442', '#0072B2', '#D55E00', '#CC79A7', '#999999', '#F781BF', '#6C71C4']"
   ]
  },
  {
   "cell_type": "markdown",
   "id": "af6f3adc-ec32-40b5-be03-1c699381db66",
   "metadata": {},
   "source": [
    "To better visualise mean pm10 distributions for each classification of retail centre from the lineplot, a violinplot was produced to show the density and their ranges. This should be used by policy makers to get en ooverall picture of the sorts of retail centre and the air quality of each."
   ]
  },
  {
   "cell_type": "code",
   "execution_count": null,
   "id": "7679b43e-68e0-420f-8ee8-5e0e2f5967b7",
   "metadata": {},
   "outputs": [],
   "source": [
    "# Set the plot figure size\n",
    "plt.figure(figsize=(10, 10))\n",
    "\n",
    "# Define the type of plot\n",
    "ax = sns.violinplot(\n",
    "# Define the dataframe to be used \n",
    "    data=intersected,\n",
    "# Define the x and y axis data\n",
    "    x=\"pm10_mean\",\n",
    "    y='Classification',\n",
    "# Define which category to base the different colours upon\n",
    "    hue='Classification',\n",
    "# Define the colour palette to be used\n",
    "    palette=my_palette,\n",
    "# Set the number of bins to be used\n",
    "    bw_adjust=.4,\n",
    "# Set the fill to false to make the contents more viisible\n",
    "    fill = False\n",
    ")\n",
    "\n",
    "# Set the x and y axis label texts and font sizes for each\n",
    "plt.xlabel('Mean pm10 value & density', fontsize=12)\n",
    "plt.ylabel('Retail centre classification', fontsize=12)\n",
    "\n",
    "# Set the overall title of the final non-spatial plot\n",
    "plt.title('Fig.1. Violinplot of mean pm10 values for each retail centre classification in Yorkshire and The Humber',\n",
    "# Set the fontsize of the title\n",
    "          fontsize = 12,\n",
    "# Set the location of the title above the plot on the y axis \n",
    "          y=1.009\n",
    "         )\n",
    "# Display the plot\n",
    "plt.show()"
   ]
  },
  {
   "cell_type": "markdown",
   "id": "cf3d53f1-5449-416a-86e3-32d858f6b1ee",
   "metadata": {},
   "source": [
    "Fig.1. was plotted using the newly created colour scheme due to the number of classifications. A violin plot was chosen to show as much information as possible, including the mean (white bar in the middle of each), interquartile range (the solid bar either side of the mean), and the distribution of the values, including the density of values.\n",
    "\n",
    "It clearly showed that *'Market Towns'* had the lowest mean with no outliers. With regards to outliers, the 'Small Local Centre' classification showed a very wide range of pm10 mean values, with outliers that displayed a very low pm10 mean. Small centres and regional shopping centres displayed relatively high mean pm10 values with little or no variation in their distribution."
   ]
  },
  {
   "cell_type": "markdown",
   "id": "e08c600b-ea0d-486c-9bec-e000df338bec",
   "metadata": {},
   "source": [
    "So that the data could be visualised spatially, LSOA boundaries for the Yorkshire and The Humber study area were retrieved from (CITE) and loaded. These were plotted as a single geometry to outline the study area."
   ]
  },
  {
   "cell_type": "code",
   "execution_count": null,
   "id": "3ebf3a17-81cb-40dd-945e-1e928e272cd7",
   "metadata": {},
   "outputs": [],
   "source": [
    "# Load all the Yorkshire and Humber LSOAs so that the study area can be mapped.\n",
    "yh_lsoas = gpd.read_file(\"yh_lsoa_2021.shp\")\n",
    "# Load the library and functions to be used\n",
    "from shapely.ops import unary_union\n",
    "# Join the LSOAs into a single polygon geometry\n",
    "merged_geometry = unary_union(yh_lsoas['geometry'])\n",
    "# create a new geodataframe from this geometry, setting the geometry column\n",
    "merged_lsoas = gpd.GeoDataFrame(geometry=[merged_geometry])"
   ]
  },
  {
   "cell_type": "code",
   "execution_count": null,
   "id": "b7191253-853a-4cf2-8a72-a64c82219cfa",
   "metadata": {},
   "outputs": [],
   "source": [
    "# Plot the study are as a single shape to highlight the study are and\n",
    "# to make it clear it's geography\n",
    "\n",
    "# Set the number of subplots\n",
    "fig, ax = plt.subplots(1,1)\n",
    "# Set the size of the overall figure\n",
    "fig.set_size_inches(36,18)\n",
    "\n",
    "# Set the plot title and fontsize\n",
    "plt.title(\"Map of the study area\", fontsize = 24)\n",
    "\n",
    "# Plot the merged_lsoas\n",
    "merged_lsoas.plot(\n",
    "# Attaach it to ax\n",
    "    ax = ax,\n",
    "# Set the fill colour to none so only the border is visible\n",
    "    color = \"none\",\n",
    "# Set the linewidth of the border to highlight it\n",
    "    linewidth = 1,\n",
    "# Set the outer border to darkred\n",
    "    edgecolor = \"darkred\"\n",
    "    )\n",
    "\n",
    "# Add a basemap\n",
    "ctx.add_basemap(\n",
    "# add it ax\n",
    "   ax,\n",
    "# set the zoom level to make the place names as visible as possible\n",
    "    zoom = 9,\n",
    "# Set the CRS of the map\n",
    "    crs='EPSG:27700',\n",
    "# Set the map type\n",
    "    source=ctx.providers.CartoDB.Positron\n",
    ");\n",
    "\n",
    "# Remove the axis labels\n",
    "ax.set_axis_off()\n",
    "\n",
    "# Show the plot\n",
    "plt.show()"
   ]
  },
  {
   "cell_type": "markdown",
   "id": "e92a0bdb-46b9-45ef-8520-613df7dbd12e",
   "metadata": {},
   "source": [
    "Ideally an interactive map of the *Classification* and *pm10_mean* variables would allow the user to select which layers were visible for comparative purposes, but due to issues with the available memory this was not possible. Therefore, the two plots were faceted so to allow the classifications and mean pm10 data to be viewed side-by-side and referenced against each other. This plot should be used by policy makers to allow further focus on policy interventions in retail centres with the worst air quality. "
   ]
  },
  {
   "cell_type": "code",
   "execution_count": null,
   "id": "6a4b1877-c408-4a48-8c4c-6111159d4d24",
   "metadata": {},
   "outputs": [],
   "source": [
    "# Create a ListedColormap from the custom palette\n",
    "my_cmap = mcolors.ListedColormap(my_palette)\n",
    "\n",
    "# Create subplots with adjusted aspect ratio\n",
    "fig, axes = plt.subplots(1, 2, figsize=(36, 18), gridspec_kw={'width_ratios': [1, 1.0372]})\n",
    "\n",
    "# 1st subplot\n",
    "# Se the blank canvas and choose the 1st index number [0]\n",
    "ax = axes[0]\n",
    "# Set the geometry column of the dataframe to be used\n",
    "intersected = intersected.set_geometry('lsoa_geometry')\n",
    "\n",
    "# Plot the Classification from intersected\n",
    "intersected.plot(\n",
    "# Attach it to ax\n",
    "    ax=ax,\n",
    "# Set the data column to be used\n",
    "    column=intersected['Classification'],\n",
    "# Set the colour scheme to be the one created earlier\n",
    "    cmap=my_cmap,\n",
    "# Make the plot for categorical data (Classifications)\n",
    "    categorical=True,\n",
    "# Set the legend to true to get the classifications\n",
    "    legend=True,\n",
    "# Set the font size of the legend itemms\n",
    "    legend_kwds={'fontsize': 15}\n",
    ")\n",
    "\n",
    "# Add the lsoas to this 1st plot\n",
    "yh_lsoas.plot(\n",
    "# Attach it to ax\n",
    "    ax=ax,\n",
    "# Se the fill colour to none, leaving the borders only\n",
    "    color=\"none\",\n",
    "# Se the border line width to something small to make them distinguishable as possible\n",
    "    linewidth=0.1\n",
    ")\n",
    "\n",
    "# Add a basemap to this 1st plot\n",
    "ctx.add_basemap(\n",
    "# attach it to ax\n",
    "    ax,\n",
    "# Set the zoom as before\n",
    "    zoom=9,\n",
    "# Set the CRS as before\n",
    "    crs='EPSG:27700',\n",
    "# Choose the map type \n",
    "    source=ctx.providers.CartoDB.Positron\n",
    ")\n",
    "\n",
    "# Remove the axis ticks that show the lon and lat\n",
    "ax.set_axis_off()\n",
    "\n",
    "# Make the second subplot with an adjusted aspect ratio\n",
    "# Set the ax index to plot in\n",
    "ax = axes[1]\n",
    "# Set the geometry column\n",
    "intersected = intersected.set_geometry('lsoa_geometry')\n",
    "\n",
    "# Plot the data\n",
    "intersected.plot(\n",
    "# Attach it to ax\n",
    "    ax=ax,\n",
    "# Choose the data column to plot\n",
    "    column='pm10_mean',\n",
    "# Set the data type to continuous\n",
    "    categorical=False,\n",
    "# Remove the legend\n",
    "    legend=False,\n",
    "# Set the opacity to allow the use to see the map underneath\n",
    "    alpha=0.7,\n",
    "# Set the fill colour for the plotted data values\n",
    "    cmap = plt.cm.get_cmap('viridis_r')\n",
    ")\n",
    "\n",
    "# Plot the lsoas again\n",
    "yh_lsoas.plot(\n",
    "# Attach them to this ax\n",
    "    ax=ax,\n",
    "# Se the fill colour to none, leaving the borders\n",
    "    color=\"none\",\n",
    "# Set the linewidth of the borders\n",
    "    linewidth=0.1\n",
    ")\n",
    "\n",
    "# Add the basemap fot the second plot\n",
    "ctx.add_basemap(\n",
    "# Attach it to ax\n",
    "    ax,\n",
    "# Set the zoom again\n",
    "    zoom=9,\n",
    "# Set the CRS\n",
    "    crs='EPSG:27700',\n",
    "# Choose the maptype\n",
    "    source=ctx.providers.CartoDB.Positron\n",
    ")\n",
    "\n",
    "# Remove the lon and lat from the axes\n",
    "ax.set_axis_off()\n",
    "\n",
    "# Creat the colorbar for the second subplot\n",
    "# Make the colour bar editable\n",
    "divider = make_axes_locatable(ax)\n",
    "# attach it to a variable called cax and adjust its position, size compared to the plot, and padding against the plot edge \n",
    "cax = divider.append_axes(\"right\",\n",
    "                          size=\"3%\",\n",
    "                          pad=0.1)\n",
    "# Edit the contents of the colour bar\n",
    "# attach the colourbar to a variable called cbar\n",
    "cbar = plt.colorbar(ax.collections[0],\n",
    "                    cax=cax)\n",
    "# Set the label and font size of the label of the colour bar\n",
    "cbar.set_label('Mean pm10 value µg/m^3',\n",
    "               fontsize=20)\n",
    "# Change the size of the ticks to make the visible\n",
    "cbar.ax.tick_params(labelsize='x-large')\n",
    "\n",
    "# Add overall title with adjusted y parameter, and font size\n",
    "fig.suptitle(\"Fig.2. LSOAs with Retail Centres and PM10 Mean Values\", fontsize=24, y=0.89)\n",
    "\n",
    "# Adjust layout to tight so they appear as close as possible\n",
    "plt.tight_layout()\n",
    "\n",
    "# Show the plot\n",
    "plt.show()\n"
   ]
  },
  {
   "cell_type": "markdown",
   "id": "7b89b87e-c798-4455-9c4a-b5e70d469178",
   "metadata": {},
   "source": [
    "Ideally an interactive map of the *Classification* and *pm10_mean* variables would allow the user to select which layers were visible for comparative purposes, but due to issues with the available memory this was not possible. Therefore, the two plots were faceted to allow the classifications and pm10 data to be viewed side-by-side and referenced against each other.\n",
    "\r\n",
    "Fig.2. is aimed at policy makers as a starting point on which to focus any change that would be applied to areas that could potentially be busiest, and those that show the highest levels of pollution. Addressing pollution due to traffic in these areas could help to improve the health of those shoppers visiting those areas. The spatial distribution of retail centres shows that they are clustered within more urban areas which display relatively high levels of pm10 and these areas should be the focus of these potential policy changes.\n",
    "\r\n",
    "The categorical data plotted used the previously created colour scheme and showed that classification was relatively uninformative with regards to the levels of pm10 in an area. A legend was included for reference. Pm10 means were shown using a reversed viridis colour scheme which is a good choice for those with many types of colour-blindness. It was reversed to show areas with low pm10 means as lighter and higher pm10 means as darker as this appeared to be more suitable for this data. A colour scale bar was included to show the levels and range of values included in the plot.\r\n"
   ]
  },
  {
   "cell_type": "markdown",
   "id": "5ba670f0-4d6f-4b5d-b085-3ba23e08f4d5",
   "metadata": {},
   "source": [
    "#### References\n",
    "\n",
    "<p><a href=\"https://data.cdrc.ac.uk/dataset/retail-centre-boundaries-and-open-indicators\">[1]</a> Consumer Data Research Centre 2022. Retail Centre Boundaries. [Accessed 6 March 2023]. Available from: https://data.cdrc.ac.uk/dataset/retail-centre-boundaries-and-open-indicators/resource/retail-centre-boundaries.</p>\n",
    "\n",
    "<p><a href=\"https://data.cdrc.ac.uk/dataset/access-healthy-assets-hazards-ahah\">[2]</a> Daras, K., Green, M.A., Davies, A., Singleton, A. and Barr, B. 2019. Access to Healthy Assets and Hazards (AHAH) - Updated version 2017. , 300871 Bytes.</p>\n",
    "\n",
    "<p><a href=\"https://opendatacommunities.org/atlas/resource?uri=http%3A%2F%2Fopendatacommunities.org%2Fid%2Fgeography%2Fadministration%2Frgn%2FE12000003\">[3]</a> Department for Levelling Up, Housing and Communities n.d. DLUHC Open Data | Yorkshire and The Humber. [Accessed 2 December 2023]. Available from: https://opendatacommunities.org/atlas/resource?uri=http%3A%2F%2Fopendatacommunities.org%2Fid%2Fgeography%2Fadministration%2Frgn%2FE12000003.</p>\n",
    "\n",
    "<p><a href=\"https://www.data.gov.uk/dataset/fa883558-22fb-4a1a-8529-cffdee47d500/lower-layer-super-output-area-lsoa-boundaries\">[4]</a> Office for National Statistics 2016. Lower Layer Super Output Area (LSOA) boundaries. [Accessed 2 December 2023]. Available from: https://www.data.gov.uk/dataset/fa883558-22fb-4a1a-8529-cffdee47d500/lower-layer-super-output-area-lsoa-boundaries </p>\n",
    "\n",
    "<p><a href=\"https://geoportal.statistics.gov.uk/datasets/e99a92fb7607495689f2eeeab8108fd6/explore\">[5]</a> Open Geography Portal 2022. LSOA (Dec 2021) Boundaries Full Clipped EW (BFC). [Accessed 6 March 2023]. Available from: https://geoportal.statistics.gov.uk/datasets/ons::lsoa-dec-2021-boundaries-full-clipped-ew-bfc/explore?location=53.943524,-0.982810,10.84. </p>"
   ]
  },
  {
   "cell_type": "code",
   "execution_count": null,
   "id": "96670abf-2210-4fb0-934c-6dcbe7a8b3bc",
   "metadata": {},
   "outputs": [],
   "source": []
  }
 ],
 "metadata": {
  "kernelspec": {
   "display_name": "Python 3 (ipykernel)",
   "language": "python",
   "name": "python3"
  },
  "language_info": {
   "codemirror_mode": {
    "name": "ipython",
    "version": 3
   },
   "file_extension": ".py",
   "mimetype": "text/x-python",
   "name": "python",
   "nbconvert_exporter": "python",
   "pygments_lexer": "ipython3",
   "version": "3.11.6"
  }
 },
 "nbformat": 4,
 "nbformat_minor": 5
}
